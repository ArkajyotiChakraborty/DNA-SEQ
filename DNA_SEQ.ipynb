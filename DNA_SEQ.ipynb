{
  "nbformat": 4,
  "nbformat_minor": 0,
  "metadata": {
    "colab": {
      "name": "DNA_SEQ.ipynb",
      "provenance": []
    },
    "kernelspec": {
      "display_name": "Python 3",
      "name": "python3"
    },
    "language_info": {
      "name": "python"
    }
  },
  "cells": [
    {
      "cell_type": "markdown",
      "metadata": {
        "id": "a6eO4EA9GXzr"
      },
      "source": [
        "Name: Aditya Singh(2K19/EP/005) & Arkajyoti Chakraborty(2K19/EP/022)\n",
        "\n",
        "College: Delhi Technological University\n",
        "\n",
        "Subject: Biophysics"
      ]
    },
    {
      "cell_type": "code",
      "metadata": {
        "id": "Iiy3NThHtuY1"
      },
      "source": [
        "import pandas as pd\n",
        "import numpy as np\n",
        "import matplotlib.pyplot as plt"
      ],
      "execution_count": 1,
      "outputs": []
    },
    {
      "cell_type": "markdown",
      "metadata": {
        "id": "Ys8smUiq3Mov"
      },
      "source": [
        "Collecting Human Data"
      ]
    },
    {
      "cell_type": "code",
      "metadata": {
        "colab": {
          "base_uri": "https://localhost:8080/",
          "height": 417
        },
        "id": "StMyUFrx0E2f",
        "outputId": "181d5e48-0bdb-4cc6-9a2e-52bb0ba8b2a4"
      },
      "source": [
        "human_dna = pd.read_table('/content/drive/MyDrive/human.txt')\n",
        "human_dna"
      ],
      "execution_count": 2,
      "outputs": [
        {
          "output_type": "execute_result",
          "data": {
            "text/html": [
              "<div>\n",
              "<style scoped>\n",
              "    .dataframe tbody tr th:only-of-type {\n",
              "        vertical-align: middle;\n",
              "    }\n",
              "\n",
              "    .dataframe tbody tr th {\n",
              "        vertical-align: top;\n",
              "    }\n",
              "\n",
              "    .dataframe thead th {\n",
              "        text-align: right;\n",
              "    }\n",
              "</style>\n",
              "<table border=\"1\" class=\"dataframe\">\n",
              "  <thead>\n",
              "    <tr style=\"text-align: right;\">\n",
              "      <th></th>\n",
              "      <th>sequence</th>\n",
              "      <th>class</th>\n",
              "    </tr>\n",
              "  </thead>\n",
              "  <tbody>\n",
              "    <tr>\n",
              "      <th>0</th>\n",
              "      <td>ATGCCCCAACTAAATACTACCGTATGGCCCACCATAATTACCCCCA...</td>\n",
              "      <td>4</td>\n",
              "    </tr>\n",
              "    <tr>\n",
              "      <th>1</th>\n",
              "      <td>ATGAACGAAAATCTGTTCGCTTCATTCATTGCCCCCACAATCCTAG...</td>\n",
              "      <td>4</td>\n",
              "    </tr>\n",
              "    <tr>\n",
              "      <th>2</th>\n",
              "      <td>ATGTGTGGCATTTGGGCGCTGTTTGGCAGTGATGATTGCCTTTCTG...</td>\n",
              "      <td>3</td>\n",
              "    </tr>\n",
              "    <tr>\n",
              "      <th>3</th>\n",
              "      <td>ATGTGTGGCATTTGGGCGCTGTTTGGCAGTGATGATTGCCTTTCTG...</td>\n",
              "      <td>3</td>\n",
              "    </tr>\n",
              "    <tr>\n",
              "      <th>4</th>\n",
              "      <td>ATGCAACAGCATTTTGAATTTGAATACCAGACCAAAGTGGATGGTG...</td>\n",
              "      <td>3</td>\n",
              "    </tr>\n",
              "    <tr>\n",
              "      <th>...</th>\n",
              "      <td>...</td>\n",
              "      <td>...</td>\n",
              "    </tr>\n",
              "    <tr>\n",
              "      <th>4375</th>\n",
              "      <td>ATGGAAGATTTGGAGGAAACATTATTTGAAGAATTTGAAAACTATT...</td>\n",
              "      <td>0</td>\n",
              "    </tr>\n",
              "    <tr>\n",
              "      <th>4376</th>\n",
              "      <td>ATGCAGTCCTTTCGGGAGCAAAGCAGTTACCACGGAAACCAGCAAA...</td>\n",
              "      <td>6</td>\n",
              "    </tr>\n",
              "    <tr>\n",
              "      <th>4377</th>\n",
              "      <td>ATGCAGTCCTTTCGGGAGCAAAGCAGTTACCACGGAAACCAGCAAA...</td>\n",
              "      <td>6</td>\n",
              "    </tr>\n",
              "    <tr>\n",
              "      <th>4378</th>\n",
              "      <td>ATGGGGCACCTGGTTTGCTGTCTGTGTGGCAAGTGGGCCAGTTACC...</td>\n",
              "      <td>6</td>\n",
              "    </tr>\n",
              "    <tr>\n",
              "      <th>4379</th>\n",
              "      <td>ATGCAGTCCTTTCGGGAGCAAAGCAGTTACCACGGAAACCAGCAAA...</td>\n",
              "      <td>6</td>\n",
              "    </tr>\n",
              "  </tbody>\n",
              "</table>\n",
              "<p>4380 rows × 2 columns</p>\n",
              "</div>"
            ],
            "text/plain": [
              "                                               sequence  class\n",
              "0     ATGCCCCAACTAAATACTACCGTATGGCCCACCATAATTACCCCCA...      4\n",
              "1     ATGAACGAAAATCTGTTCGCTTCATTCATTGCCCCCACAATCCTAG...      4\n",
              "2     ATGTGTGGCATTTGGGCGCTGTTTGGCAGTGATGATTGCCTTTCTG...      3\n",
              "3     ATGTGTGGCATTTGGGCGCTGTTTGGCAGTGATGATTGCCTTTCTG...      3\n",
              "4     ATGCAACAGCATTTTGAATTTGAATACCAGACCAAAGTGGATGGTG...      3\n",
              "...                                                 ...    ...\n",
              "4375  ATGGAAGATTTGGAGGAAACATTATTTGAAGAATTTGAAAACTATT...      0\n",
              "4376  ATGCAGTCCTTTCGGGAGCAAAGCAGTTACCACGGAAACCAGCAAA...      6\n",
              "4377  ATGCAGTCCTTTCGGGAGCAAAGCAGTTACCACGGAAACCAGCAAA...      6\n",
              "4378  ATGGGGCACCTGGTTTGCTGTCTGTGTGGCAAGTGGGCCAGTTACC...      6\n",
              "4379  ATGCAGTCCTTTCGGGAGCAAAGCAGTTACCACGGAAACCAGCAAA...      6\n",
              "\n",
              "[4380 rows x 2 columns]"
            ]
          },
          "metadata": {},
          "execution_count": 2
        }
      ]
    },
    {
      "cell_type": "code",
      "metadata": {
        "colab": {
          "base_uri": "https://localhost:8080/"
        },
        "id": "c9hgsuGS4j1m",
        "outputId": "c6a2fd39-55ce-499a-b6d1-144b6495ad1a"
      },
      "source": [
        "human_dna.columns"
      ],
      "execution_count": 3,
      "outputs": [
        {
          "output_type": "execute_result",
          "data": {
            "text/plain": [
              "Index(['sequence', 'class'], dtype='object')"
            ]
          },
          "metadata": {},
          "execution_count": 3
        }
      ]
    },
    {
      "cell_type": "markdown",
      "metadata": {
        "id": "km9gY4E93OzV"
      },
      "source": [
        "Collecting Chimpanzee Data "
      ]
    },
    {
      "cell_type": "code",
      "metadata": {
        "colab": {
          "base_uri": "https://localhost:8080/",
          "height": 417
        },
        "id": "rqQwzroc0gB4",
        "outputId": "bf69b196-4a18-4a8a-db5f-cd03289d2415"
      },
      "source": [
        "Chimpanzee_dna = pd.read_table('/content/drive/MyDrive/chimpanzee.txt')\n",
        "Chimpanzee_dna"
      ],
      "execution_count": 4,
      "outputs": [
        {
          "output_type": "execute_result",
          "data": {
            "text/html": [
              "<div>\n",
              "<style scoped>\n",
              "    .dataframe tbody tr th:only-of-type {\n",
              "        vertical-align: middle;\n",
              "    }\n",
              "\n",
              "    .dataframe tbody tr th {\n",
              "        vertical-align: top;\n",
              "    }\n",
              "\n",
              "    .dataframe thead th {\n",
              "        text-align: right;\n",
              "    }\n",
              "</style>\n",
              "<table border=\"1\" class=\"dataframe\">\n",
              "  <thead>\n",
              "    <tr style=\"text-align: right;\">\n",
              "      <th></th>\n",
              "      <th>sequence</th>\n",
              "      <th>class</th>\n",
              "    </tr>\n",
              "  </thead>\n",
              "  <tbody>\n",
              "    <tr>\n",
              "      <th>0</th>\n",
              "      <td>ATGCCCCAACTAAATACCGCCGTATGACCCACCATAATTACCCCCA...</td>\n",
              "      <td>4</td>\n",
              "    </tr>\n",
              "    <tr>\n",
              "      <th>1</th>\n",
              "      <td>ATGAACGAAAATCTATTCGCTTCATTCGCTGCCCCCACAATCCTAG...</td>\n",
              "      <td>4</td>\n",
              "    </tr>\n",
              "    <tr>\n",
              "      <th>2</th>\n",
              "      <td>ATGGCCTCGCGCTGGTGGCGGTGGCGACGCGGCTGCTCCTGGAGGC...</td>\n",
              "      <td>4</td>\n",
              "    </tr>\n",
              "    <tr>\n",
              "      <th>3</th>\n",
              "      <td>ATGGCCTCGCGCTGGTGGCGGTGGCGACGCGGCTGCTCCTGGAGGC...</td>\n",
              "      <td>4</td>\n",
              "    </tr>\n",
              "    <tr>\n",
              "      <th>4</th>\n",
              "      <td>ATGGGCAGCGCCAGCCCGGGTCTGAGCAGCGTGTCCCCCAGCCACC...</td>\n",
              "      <td>6</td>\n",
              "    </tr>\n",
              "    <tr>\n",
              "      <th>...</th>\n",
              "      <td>...</td>\n",
              "      <td>...</td>\n",
              "    </tr>\n",
              "    <tr>\n",
              "      <th>1677</th>\n",
              "      <td>ATGCTGAGCGGAGCGGCTGGGGCTGCGCGGCGTGGCGGAGCAGCGC...</td>\n",
              "      <td>5</td>\n",
              "    </tr>\n",
              "    <tr>\n",
              "      <th>1678</th>\n",
              "      <td>ATGCTGAGCGGAGCGGCTGGGGCTGCGCGGCGTGGCGGAGCAGCGC...</td>\n",
              "      <td>5</td>\n",
              "    </tr>\n",
              "    <tr>\n",
              "      <th>1679</th>\n",
              "      <td>ATGAAGCGACCCAAGGAGCCGAGCGGCTCCGACGGGGAGTCCGACG...</td>\n",
              "      <td>6</td>\n",
              "    </tr>\n",
              "    <tr>\n",
              "      <th>1680</th>\n",
              "      <td>ATGACTGGAACCCCAAAGACTCAAGAAGGAGCTAAAGATCTTGAAG...</td>\n",
              "      <td>3</td>\n",
              "    </tr>\n",
              "    <tr>\n",
              "      <th>1681</th>\n",
              "      <td>ATGTTGCCCAGCTGTGGCAAGATCTTGACTGGGTGTAAGAATATGC...</td>\n",
              "      <td>3</td>\n",
              "    </tr>\n",
              "  </tbody>\n",
              "</table>\n",
              "<p>1682 rows × 2 columns</p>\n",
              "</div>"
            ],
            "text/plain": [
              "                                               sequence  class\n",
              "0     ATGCCCCAACTAAATACCGCCGTATGACCCACCATAATTACCCCCA...      4\n",
              "1     ATGAACGAAAATCTATTCGCTTCATTCGCTGCCCCCACAATCCTAG...      4\n",
              "2     ATGGCCTCGCGCTGGTGGCGGTGGCGACGCGGCTGCTCCTGGAGGC...      4\n",
              "3     ATGGCCTCGCGCTGGTGGCGGTGGCGACGCGGCTGCTCCTGGAGGC...      4\n",
              "4     ATGGGCAGCGCCAGCCCGGGTCTGAGCAGCGTGTCCCCCAGCCACC...      6\n",
              "...                                                 ...    ...\n",
              "1677  ATGCTGAGCGGAGCGGCTGGGGCTGCGCGGCGTGGCGGAGCAGCGC...      5\n",
              "1678  ATGCTGAGCGGAGCGGCTGGGGCTGCGCGGCGTGGCGGAGCAGCGC...      5\n",
              "1679  ATGAAGCGACCCAAGGAGCCGAGCGGCTCCGACGGGGAGTCCGACG...      6\n",
              "1680  ATGACTGGAACCCCAAAGACTCAAGAAGGAGCTAAAGATCTTGAAG...      3\n",
              "1681  ATGTTGCCCAGCTGTGGCAAGATCTTGACTGGGTGTAAGAATATGC...      3\n",
              "\n",
              "[1682 rows x 2 columns]"
            ]
          },
          "metadata": {},
          "execution_count": 4
        }
      ]
    },
    {
      "cell_type": "markdown",
      "metadata": {
        "id": "RqQD2NX83UWP"
      },
      "source": [
        "Collecting Dog data"
      ]
    },
    {
      "cell_type": "code",
      "metadata": {
        "colab": {
          "base_uri": "https://localhost:8080/",
          "height": 417
        },
        "id": "HOibhIy702O0",
        "outputId": "15d0f5c8-bac4-49cf-f479-317c195e675a"
      },
      "source": [
        "dog_dna = pd.read_table('/content/drive/MyDrive/dog.txt')\n",
        "dog_dna"
      ],
      "execution_count": 5,
      "outputs": [
        {
          "output_type": "execute_result",
          "data": {
            "text/html": [
              "<div>\n",
              "<style scoped>\n",
              "    .dataframe tbody tr th:only-of-type {\n",
              "        vertical-align: middle;\n",
              "    }\n",
              "\n",
              "    .dataframe tbody tr th {\n",
              "        vertical-align: top;\n",
              "    }\n",
              "\n",
              "    .dataframe thead th {\n",
              "        text-align: right;\n",
              "    }\n",
              "</style>\n",
              "<table border=\"1\" class=\"dataframe\">\n",
              "  <thead>\n",
              "    <tr style=\"text-align: right;\">\n",
              "      <th></th>\n",
              "      <th>sequence</th>\n",
              "      <th>class</th>\n",
              "    </tr>\n",
              "  </thead>\n",
              "  <tbody>\n",
              "    <tr>\n",
              "      <th>0</th>\n",
              "      <td>ATGCCACAGCTAGATACATCCACCTGATTTATTATAATCTTTTCAA...</td>\n",
              "      <td>4</td>\n",
              "    </tr>\n",
              "    <tr>\n",
              "      <th>1</th>\n",
              "      <td>ATGAACGAAAATCTATTCGCTTCTTTCGCTGCCCCCTCAATAATAG...</td>\n",
              "      <td>4</td>\n",
              "    </tr>\n",
              "    <tr>\n",
              "      <th>2</th>\n",
              "      <td>ATGGAAACACCCTTCTACGGCGATGAGGCGCTGAGCGGCCTGGGCG...</td>\n",
              "      <td>6</td>\n",
              "    </tr>\n",
              "    <tr>\n",
              "      <th>3</th>\n",
              "      <td>ATGTGCACTAAAATGGAACAGCCCTTCTACCACGACGACTCATACG...</td>\n",
              "      <td>6</td>\n",
              "    </tr>\n",
              "    <tr>\n",
              "      <th>4</th>\n",
              "      <td>ATGAGCCGGCAGCTAAACAGAAGCCAGAACTGCTCCTTCAGTGACG...</td>\n",
              "      <td>0</td>\n",
              "    </tr>\n",
              "    <tr>\n",
              "      <th>...</th>\n",
              "      <td>...</td>\n",
              "      <td>...</td>\n",
              "    </tr>\n",
              "    <tr>\n",
              "      <th>815</th>\n",
              "      <td>ATGGTCGGTCCGGAGAAGGAGCAGAGCTGGATCCCTAAGATCTTCA...</td>\n",
              "      <td>5</td>\n",
              "    </tr>\n",
              "    <tr>\n",
              "      <th>816</th>\n",
              "      <td>ATGGCGGCGACGGTGGCTGCGGCGGCCGCCGACGCGGGGCCGGGGG...</td>\n",
              "      <td>6</td>\n",
              "    </tr>\n",
              "    <tr>\n",
              "      <th>817</th>\n",
              "      <td>ATGAGCTCGGCCGACAAGGCCCGGGTGGGGCCCGCGGCCGACGGGC...</td>\n",
              "      <td>6</td>\n",
              "    </tr>\n",
              "    <tr>\n",
              "      <th>818</th>\n",
              "      <td>GCCCCGAGGATGGGCAGGGTCCCGCTGGCCTGGTGCTTGGCGCTGT...</td>\n",
              "      <td>1</td>\n",
              "    </tr>\n",
              "    <tr>\n",
              "      <th>819</th>\n",
              "      <td>ATGGCCTGGGCTCTGAAGCTGCCCCTGGCCGACGAAGTGATTGAAT...</td>\n",
              "      <td>6</td>\n",
              "    </tr>\n",
              "  </tbody>\n",
              "</table>\n",
              "<p>820 rows × 2 columns</p>\n",
              "</div>"
            ],
            "text/plain": [
              "                                              sequence  class\n",
              "0    ATGCCACAGCTAGATACATCCACCTGATTTATTATAATCTTTTCAA...      4\n",
              "1    ATGAACGAAAATCTATTCGCTTCTTTCGCTGCCCCCTCAATAATAG...      4\n",
              "2    ATGGAAACACCCTTCTACGGCGATGAGGCGCTGAGCGGCCTGGGCG...      6\n",
              "3    ATGTGCACTAAAATGGAACAGCCCTTCTACCACGACGACTCATACG...      6\n",
              "4    ATGAGCCGGCAGCTAAACAGAAGCCAGAACTGCTCCTTCAGTGACG...      0\n",
              "..                                                 ...    ...\n",
              "815  ATGGTCGGTCCGGAGAAGGAGCAGAGCTGGATCCCTAAGATCTTCA...      5\n",
              "816  ATGGCGGCGACGGTGGCTGCGGCGGCCGCCGACGCGGGGCCGGGGG...      6\n",
              "817  ATGAGCTCGGCCGACAAGGCCCGGGTGGGGCCCGCGGCCGACGGGC...      6\n",
              "818  GCCCCGAGGATGGGCAGGGTCCCGCTGGCCTGGTGCTTGGCGCTGT...      1\n",
              "819  ATGGCCTGGGCTCTGAAGCTGCCCCTGGCCGACGAAGTGATTGAAT...      6\n",
              "\n",
              "[820 rows x 2 columns]"
            ]
          },
          "metadata": {},
          "execution_count": 5
        }
      ]
    },
    {
      "cell_type": "markdown",
      "metadata": {
        "id": "q9wXTN5m1ksn"
      },
      "source": [
        "Let's visualise the classes and data!"
      ]
    },
    {
      "cell_type": "code",
      "metadata": {
        "colab": {
          "base_uri": "https://localhost:8080/",
          "height": 295
        },
        "id": "15LbjrD609ts",
        "outputId": "26410386-6f98-4c7c-c33b-de3597b445e2"
      },
      "source": [
        "human_dna['class'].value_counts().sort_index().plot.bar()\n",
        "plt.title(\"Class distribution of Human DNA\")"
      ],
      "execution_count": 6,
      "outputs": [
        {
          "output_type": "execute_result",
          "data": {
            "text/plain": [
              "Text(0.5, 1.0, 'Class distribution of Human DNA')"
            ]
          },
          "metadata": {},
          "execution_count": 6
        },
        {
          "output_type": "display_data",
          "data": {
            "image/png": "[encoded data removed]",
            "text/plain": [
              "<Figure size 432x288 with 1 Axes>"
            ]
          },
          "metadata": {
            "needs_background": "light"
          }
        }
      ]
    },
    {
      "cell_type": "code",
      "metadata": {
        "colab": {
          "base_uri": "https://localhost:8080/",
          "height": 295
        },
        "id": "IJ6AYhTU1o3X",
        "outputId": "420809b0-6f6e-4207-8df0-fedeeb7c6ddf"
      },
      "source": [
        "Chimpanzee_dna['class'].value_counts().sort_index().plot.bar()\n",
        "plt.title(\"Class distribution of Chimpanzee DNA\")"
      ],
      "execution_count": 7,
      "outputs": [
        {
          "output_type": "execute_result",
          "data": {
            "text/plain": [
              "Text(0.5, 1.0, 'Class distribution of Chimpanzee DNA')"
            ]
          },
          "metadata": {},
          "execution_count": 7
        },
        {
          "output_type": "display_data",
          "data": {
            "image/png": "[encoded data removed]",
            "text/plain": [
              "<Figure size 432x288 with 1 Axes>"
            ]
          },
          "metadata": {
            "needs_background": "light"
          }
        }
      ]
    },
    {
      "cell_type": "code",
      "metadata": {
        "colab": {
          "base_uri": "https://localhost:8080/",
          "height": 295
        },
        "id": "ovMNkWFo1zLE",
        "outputId": "375de590-2ef1-42af-fa05-75f56e30957e"
      },
      "source": [
        "dog_dna['class'].value_counts().sort_index().plot.bar()\n",
        "plt.title(\"Class distribution of Dog DNA\")"
      ],
      "execution_count": 8,
      "outputs": [
        {
          "output_type": "execute_result",
          "data": {
            "text/plain": [
              "Text(0.5, 1.0, 'Class distribution of Dog DNA')"
            ]
          },
          "metadata": {},
          "execution_count": 8
        },
        {
          "output_type": "display_data",
          "data": {
            "image/png": "[encoded data removed]",
            "text/plain": [
              "<Figure size 432x288 with 1 Axes>"
            ]
          },
          "metadata": {
            "needs_background": "light"
          }
        }
      ]
    },
    {
      "cell_type": "code",
      "metadata": {
        "id": "buVwPAcM14o0"
      },
      "source": [
        "# Function to change the string into k-mers words..\n",
        "def Kmers_funct(seq, size=6):\n",
        "  return [seq[x:x+size].lower() for x in range(len(seq) - size + 1)]"
      ],
      "execution_count": 9,
      "outputs": []
    },
    {
      "cell_type": "code",
      "metadata": {
        "id": "eDkMAh-I2lSt"
      },
      "source": [
        "human_dna['word'] = human_dna.apply(lambda x: Kmers_funct(x['sequence']), axis=1)\n",
        "human_dna = human_dna.drop('sequence', axis=1)"
      ],
      "execution_count": 12,
      "outputs": []
    },
    {
      "cell_type": "code",
      "metadata": {
        "colab": {
          "base_uri": "https://localhost:8080/"
        },
        "id": "VRs44wT53wF1",
        "outputId": "944c810a-3c4d-4b63-f2ec-093e0aaf24a1"
      },
      "source": [
        "human_dna.columns # checkpoint of whether the k-mer function worked or not. "
      ],
      "execution_count": 13,
      "outputs": [
        {
          "output_type": "execute_result",
          "data": {
            "text/plain": [
              "Index(['class', 'word'], dtype='object')"
            ]
          },
          "metadata": {},
          "execution_count": 13
        }
      ]
    },
    {
      "cell_type": "code",
      "metadata": {
        "colab": {
          "base_uri": "https://localhost:8080/"
        },
        "id": "-QeKZYWn4HO2",
        "outputId": "58165022-6962-4b74-db90-2ed3ce150428"
      },
      "source": [
        "human_dna['word']"
      ],
      "execution_count": 14,
      "outputs": [
        {
          "output_type": "execute_result",
          "data": {
            "text/plain": [
              "0       [atgccc, tgcccc, gcccca, ccccaa, cccaac, ccaac...\n",
              "1       [atgaac, tgaacg, gaacga, aacgaa, acgaaa, cgaaa...\n",
              "2       [atgtgt, tgtgtg, gtgtgg, tgtggc, gtggca, tggca...\n",
              "3       [atgtgt, tgtgtg, gtgtgg, tgtggc, gtggca, tggca...\n",
              "4       [atgcaa, tgcaac, gcaaca, caacag, aacagc, acagc...\n",
              "                              ...                        \n",
              "4375    [atggaa, tggaag, ggaaga, gaagat, aagatt, agatt...\n",
              "4376    [atgcag, tgcagt, gcagtc, cagtcc, agtcct, gtcct...\n",
              "4377    [atgcag, tgcagt, gcagtc, cagtcc, agtcct, gtcct...\n",
              "4378    [atgggg, tggggc, ggggca, gggcac, ggcacc, gcacc...\n",
              "4379    [atgcag, tgcagt, gcagtc, cagtcc, agtcct, gtcct...\n",
              "Name: word, Length: 4380, dtype: object"
            ]
          },
          "metadata": {},
          "execution_count": 14
        }
      ]
    },
    {
      "cell_type": "code",
      "metadata": {
        "id": "1CDwvYmN2IAV"
      },
      "source": [
        "Chimpanzee_dna['words'] = Chimpanzee_dna.apply(lambda x: Kmers_funct(x['sequence']), axis=1)\n",
        "Chimpanzee_dna = Chimpanzee_dna.drop('sequence', axis=1)\n",
        "\n",
        "dog_dna['words'] = dog_dna.apply(lambda x: Kmers_funct(x['sequence']), axis=1)\n",
        "dog_dna = dog_dna.drop('sequence', axis=1)"
      ],
      "execution_count": 15,
      "outputs": []
    },
    {
      "cell_type": "markdown",
      "metadata": {
        "id": "eB3ux-rU4R5P"
      },
      "source": [
        "Check Point of our data as we have prepared our data now it's time we go into modelling part!!"
      ]
    },
    {
      "cell_type": "code",
      "metadata": {
        "colab": {
          "base_uri": "https://localhost:8080/",
          "height": 417
        },
        "id": "sq9P5p448Luc",
        "outputId": "7eca62be-8d54-470c-80b0-6b5723ca7c8d"
      },
      "source": [
        "human_dna"
      ],
      "execution_count": 16,
      "outputs": [
        {
          "output_type": "execute_result",
          "data": {
            "text/html": [
              "<div>\n",
              "<style scoped>\n",
              "    .dataframe tbody tr th:only-of-type {\n",
              "        vertical-align: middle;\n",
              "    }\n",
              "\n",
              "    .dataframe tbody tr th {\n",
              "        vertical-align: top;\n",
              "    }\n",
              "\n",
              "    .dataframe thead th {\n",
              "        text-align: right;\n",
              "    }\n",
              "</style>\n",
              "<table border=\"1\" class=\"dataframe\">\n",
              "  <thead>\n",
              "    <tr style=\"text-align: right;\">\n",
              "      <th></th>\n",
              "      <th>class</th>\n",
              "      <th>word</th>\n",
              "    </tr>\n",
              "  </thead>\n",
              "  <tbody>\n",
              "    <tr>\n",
              "      <th>0</th>\n",
              "      <td>4</td>\n",
              "      <td>[atgccc, tgcccc, gcccca, ccccaa, cccaac, ccaac...</td>\n",
              "    </tr>\n",
              "    <tr>\n",
              "      <th>1</th>\n",
              "      <td>4</td>\n",
              "      <td>[atgaac, tgaacg, gaacga, aacgaa, acgaaa, cgaaa...</td>\n",
              "    </tr>\n",
              "    <tr>\n",
              "      <th>2</th>\n",
              "      <td>3</td>\n",
              "      <td>[atgtgt, tgtgtg, gtgtgg, tgtggc, gtggca, tggca...</td>\n",
              "    </tr>\n",
              "    <tr>\n",
              "      <th>3</th>\n",
              "      <td>3</td>\n",
              "      <td>[atgtgt, tgtgtg, gtgtgg, tgtggc, gtggca, tggca...</td>\n",
              "    </tr>\n",
              "    <tr>\n",
              "      <th>4</th>\n",
              "      <td>3</td>\n",
              "      <td>[atgcaa, tgcaac, gcaaca, caacag, aacagc, acagc...</td>\n",
              "    </tr>\n",
              "    <tr>\n",
              "      <th>...</th>\n",
              "      <td>...</td>\n",
              "      <td>...</td>\n",
              "    </tr>\n",
              "    <tr>\n",
              "      <th>4375</th>\n",
              "      <td>0</td>\n",
              "      <td>[atggaa, tggaag, ggaaga, gaagat, aagatt, agatt...</td>\n",
              "    </tr>\n",
              "    <tr>\n",
              "      <th>4376</th>\n",
              "      <td>6</td>\n",
              "      <td>[atgcag, tgcagt, gcagtc, cagtcc, agtcct, gtcct...</td>\n",
              "    </tr>\n",
              "    <tr>\n",
              "      <th>4377</th>\n",
              "      <td>6</td>\n",
              "      <td>[atgcag, tgcagt, gcagtc, cagtcc, agtcct, gtcct...</td>\n",
              "    </tr>\n",
              "    <tr>\n",
              "      <th>4378</th>\n",
              "      <td>6</td>\n",
              "      <td>[atgggg, tggggc, ggggca, gggcac, ggcacc, gcacc...</td>\n",
              "    </tr>\n",
              "    <tr>\n",
              "      <th>4379</th>\n",
              "      <td>6</td>\n",
              "      <td>[atgcag, tgcagt, gcagtc, cagtcc, agtcct, gtcct...</td>\n",
              "    </tr>\n",
              "  </tbody>\n",
              "</table>\n",
              "<p>4380 rows × 2 columns</p>\n",
              "</div>"
            ],
            "text/plain": [
              "      class                                               word\n",
              "0         4  [atgccc, tgcccc, gcccca, ccccaa, cccaac, ccaac...\n",
              "1         4  [atgaac, tgaacg, gaacga, aacgaa, acgaaa, cgaaa...\n",
              "2         3  [atgtgt, tgtgtg, gtgtgg, tgtggc, gtggca, tggca...\n",
              "3         3  [atgtgt, tgtgtg, gtgtgg, tgtggc, gtggca, tggca...\n",
              "4         3  [atgcaa, tgcaac, gcaaca, caacag, aacagc, acagc...\n",
              "...     ...                                                ...\n",
              "4375      0  [atggaa, tggaag, ggaaga, gaagat, aagatt, agatt...\n",
              "4376      6  [atgcag, tgcagt, gcagtc, cagtcc, agtcct, gtcct...\n",
              "4377      6  [atgcag, tgcagt, gcagtc, cagtcc, agtcct, gtcct...\n",
              "4378      6  [atgggg, tggggc, ggggca, gggcac, ggcacc, gcacc...\n",
              "4379      6  [atgcag, tgcagt, gcagtc, cagtcc, agtcct, gtcct...\n",
              "\n",
              "[4380 rows x 2 columns]"
            ]
          },
          "metadata": {},
          "execution_count": 16
        }
      ]
    },
    {
      "cell_type": "code",
      "metadata": {
        "colab": {
          "base_uri": "https://localhost:8080/",
          "height": 417
        },
        "id": "yvJwk4ik8B6r",
        "outputId": "77361c9c-7f2b-41db-9851-e86cb8c2c8ed"
      },
      "source": [
        "dog_dna"
      ],
      "execution_count": 17,
      "outputs": [
        {
          "output_type": "execute_result",
          "data": {
            "text/html": [
              "<div>\n",
              "<style scoped>\n",
              "    .dataframe tbody tr th:only-of-type {\n",
              "        vertical-align: middle;\n",
              "    }\n",
              "\n",
              "    .dataframe tbody tr th {\n",
              "        vertical-align: top;\n",
              "    }\n",
              "\n",
              "    .dataframe thead th {\n",
              "        text-align: right;\n",
              "    }\n",
              "</style>\n",
              "<table border=\"1\" class=\"dataframe\">\n",
              "  <thead>\n",
              "    <tr style=\"text-align: right;\">\n",
              "      <th></th>\n",
              "      <th>class</th>\n",
              "      <th>words</th>\n",
              "    </tr>\n",
              "  </thead>\n",
              "  <tbody>\n",
              "    <tr>\n",
              "      <th>0</th>\n",
              "      <td>4</td>\n",
              "      <td>[atgcca, tgccac, gccaca, ccacag, cacagc, acagc...</td>\n",
              "    </tr>\n",
              "    <tr>\n",
              "      <th>1</th>\n",
              "      <td>4</td>\n",
              "      <td>[atgaac, tgaacg, gaacga, aacgaa, acgaaa, cgaaa...</td>\n",
              "    </tr>\n",
              "    <tr>\n",
              "      <th>2</th>\n",
              "      <td>6</td>\n",
              "      <td>[atggaa, tggaaa, ggaaac, gaaaca, aaacac, aacac...</td>\n",
              "    </tr>\n",
              "    <tr>\n",
              "      <th>3</th>\n",
              "      <td>6</td>\n",
              "      <td>[atgtgc, tgtgca, gtgcac, tgcact, gcacta, cacta...</td>\n",
              "    </tr>\n",
              "    <tr>\n",
              "      <th>4</th>\n",
              "      <td>0</td>\n",
              "      <td>[atgagc, tgagcc, gagccg, agccgg, gccggc, ccggc...</td>\n",
              "    </tr>\n",
              "    <tr>\n",
              "      <th>...</th>\n",
              "      <td>...</td>\n",
              "      <td>...</td>\n",
              "    </tr>\n",
              "    <tr>\n",
              "      <th>815</th>\n",
              "      <td>5</td>\n",
              "      <td>[atggtc, tggtcg, ggtcgg, gtcggt, tcggtc, cggtc...</td>\n",
              "    </tr>\n",
              "    <tr>\n",
              "      <th>816</th>\n",
              "      <td>6</td>\n",
              "      <td>[atggcg, tggcgg, ggcggc, gcggcg, cggcga, ggcga...</td>\n",
              "    </tr>\n",
              "    <tr>\n",
              "      <th>817</th>\n",
              "      <td>6</td>\n",
              "      <td>[atgagc, tgagct, gagctc, agctcg, gctcgg, ctcgg...</td>\n",
              "    </tr>\n",
              "    <tr>\n",
              "      <th>818</th>\n",
              "      <td>1</td>\n",
              "      <td>[gccccg, ccccga, cccgag, ccgagg, cgagga, gagga...</td>\n",
              "    </tr>\n",
              "    <tr>\n",
              "      <th>819</th>\n",
              "      <td>6</td>\n",
              "      <td>[atggcc, tggcct, ggcctg, gcctgg, cctggg, ctggg...</td>\n",
              "    </tr>\n",
              "  </tbody>\n",
              "</table>\n",
              "<p>820 rows × 2 columns</p>\n",
              "</div>"
            ],
            "text/plain": [
              "     class                                              words\n",
              "0        4  [atgcca, tgccac, gccaca, ccacag, cacagc, acagc...\n",
              "1        4  [atgaac, tgaacg, gaacga, aacgaa, acgaaa, cgaaa...\n",
              "2        6  [atggaa, tggaaa, ggaaac, gaaaca, aaacac, aacac...\n",
              "3        6  [atgtgc, tgtgca, gtgcac, tgcact, gcacta, cacta...\n",
              "4        0  [atgagc, tgagcc, gagccg, agccgg, gccggc, ccggc...\n",
              "..     ...                                                ...\n",
              "815      5  [atggtc, tggtcg, ggtcgg, gtcggt, tcggtc, cggtc...\n",
              "816      6  [atggcg, tggcgg, ggcggc, gcggcg, cggcga, ggcga...\n",
              "817      6  [atgagc, tgagct, gagctc, agctcg, gctcgg, ctcgg...\n",
              "818      1  [gccccg, ccccga, cccgag, ccgagg, cgagga, gagga...\n",
              "819      6  [atggcc, tggcct, ggcctg, gcctgg, cctggg, ctggg...\n",
              "\n",
              "[820 rows x 2 columns]"
            ]
          },
          "metadata": {},
          "execution_count": 17
        }
      ]
    },
    {
      "cell_type": "code",
      "metadata": {
        "colab": {
          "base_uri": "https://localhost:8080/",
          "height": 417
        },
        "id": "OWc41t1v71Ae",
        "outputId": "7fe3e8a1-bb1a-4ebe-f9e1-024e9ed20972"
      },
      "source": [
        "Chimpanzee_dna"
      ],
      "execution_count": 18,
      "outputs": [
        {
          "output_type": "execute_result",
          "data": {
            "text/html": [
              "<div>\n",
              "<style scoped>\n",
              "    .dataframe tbody tr th:only-of-type {\n",
              "        vertical-align: middle;\n",
              "    }\n",
              "\n",
              "    .dataframe tbody tr th {\n",
              "        vertical-align: top;\n",
              "    }\n",
              "\n",
              "    .dataframe thead th {\n",
              "        text-align: right;\n",
              "    }\n",
              "</style>\n",
              "<table border=\"1\" class=\"dataframe\">\n",
              "  <thead>\n",
              "    <tr style=\"text-align: right;\">\n",
              "      <th></th>\n",
              "      <th>class</th>\n",
              "      <th>words</th>\n",
              "    </tr>\n",
              "  </thead>\n",
              "  <tbody>\n",
              "    <tr>\n",
              "      <th>0</th>\n",
              "      <td>4</td>\n",
              "      <td>[atgccc, tgcccc, gcccca, ccccaa, cccaac, ccaac...</td>\n",
              "    </tr>\n",
              "    <tr>\n",
              "      <th>1</th>\n",
              "      <td>4</td>\n",
              "      <td>[atgaac, tgaacg, gaacga, aacgaa, acgaaa, cgaaa...</td>\n",
              "    </tr>\n",
              "    <tr>\n",
              "      <th>2</th>\n",
              "      <td>4</td>\n",
              "      <td>[atggcc, tggcct, ggcctc, gcctcg, cctcgc, ctcgc...</td>\n",
              "    </tr>\n",
              "    <tr>\n",
              "      <th>3</th>\n",
              "      <td>4</td>\n",
              "      <td>[atggcc, tggcct, ggcctc, gcctcg, cctcgc, ctcgc...</td>\n",
              "    </tr>\n",
              "    <tr>\n",
              "      <th>4</th>\n",
              "      <td>6</td>\n",
              "      <td>[atgggc, tgggca, gggcag, ggcagc, gcagcg, cagcg...</td>\n",
              "    </tr>\n",
              "    <tr>\n",
              "      <th>...</th>\n",
              "      <td>...</td>\n",
              "      <td>...</td>\n",
              "    </tr>\n",
              "    <tr>\n",
              "      <th>1677</th>\n",
              "      <td>5</td>\n",
              "      <td>[atgctg, tgctga, gctgag, ctgagc, tgagcg, gagcg...</td>\n",
              "    </tr>\n",
              "    <tr>\n",
              "      <th>1678</th>\n",
              "      <td>5</td>\n",
              "      <td>[atgctg, tgctga, gctgag, ctgagc, tgagcg, gagcg...</td>\n",
              "    </tr>\n",
              "    <tr>\n",
              "      <th>1679</th>\n",
              "      <td>6</td>\n",
              "      <td>[atgaag, tgaagc, gaagcg, aagcga, agcgac, gcgac...</td>\n",
              "    </tr>\n",
              "    <tr>\n",
              "      <th>1680</th>\n",
              "      <td>3</td>\n",
              "      <td>[atgact, tgactg, gactgg, actgga, ctggaa, tggaa...</td>\n",
              "    </tr>\n",
              "    <tr>\n",
              "      <th>1681</th>\n",
              "      <td>3</td>\n",
              "      <td>[atgttg, tgttgc, gttgcc, ttgccc, tgccca, gccca...</td>\n",
              "    </tr>\n",
              "  </tbody>\n",
              "</table>\n",
              "<p>1682 rows × 2 columns</p>\n",
              "</div>"
            ],
            "text/plain": [
              "      class                                              words\n",
              "0         4  [atgccc, tgcccc, gcccca, ccccaa, cccaac, ccaac...\n",
              "1         4  [atgaac, tgaacg, gaacga, aacgaa, acgaaa, cgaaa...\n",
              "2         4  [atggcc, tggcct, ggcctc, gcctcg, cctcgc, ctcgc...\n",
              "3         4  [atggcc, tggcct, ggcctc, gcctcg, cctcgc, ctcgc...\n",
              "4         6  [atgggc, tgggca, gggcag, ggcagc, gcagcg, cagcg...\n",
              "...     ...                                                ...\n",
              "1677      5  [atgctg, tgctga, gctgag, ctgagc, tgagcg, gagcg...\n",
              "1678      5  [atgctg, tgctga, gctgag, ctgagc, tgagcg, gagcg...\n",
              "1679      6  [atgaag, tgaagc, gaagcg, aagcga, agcgac, gcgac...\n",
              "1680      3  [atgact, tgactg, gactgg, actgga, ctggaa, tggaa...\n",
              "1681      3  [atgttg, tgttgc, gttgcc, ttgccc, tgccca, gccca...\n",
              "\n",
              "[1682 rows x 2 columns]"
            ]
          },
          "metadata": {},
          "execution_count": 18
        }
      ]
    },
    {
      "cell_type": "code",
      "metadata": {
        "colab": {
          "base_uri": "https://localhost:8080/"
        },
        "id": "d2GmNCrD8QBM",
        "outputId": "420ca398-25ea-4712-8832-9913c38ce426"
      },
      "source": [
        "human_texts = list(human_dna['word'])\n",
        "for item in range(len(human_texts)):\n",
        "    human_texts[item] = ' '.join(human_texts[item])\n",
        "#separate labels\n",
        "y_human = human_dna.iloc[:, 0].values\n",
        "\n",
        "print(y_human)"
      ],
      "execution_count": 20,
      "outputs": [
        {
          "output_type": "stream",
          "name": "stdout",
          "text": [
            "[4 4 3 ... 6 6 6]\n"
          ]
        }
      ]
    },
    {
      "cell_type": "code",
      "metadata": {
        "id": "yACBpvUK8Xwk"
      },
      "source": [
        "chimp_texts = list(Chimpanzee_dna['words'])\n",
        "for item in range(len(chimp_texts)):\n",
        "    chimp_texts[item] = ' '.join(chimp_texts[item])\n",
        "#separate labels\n",
        "y_chim = Chimpanzee_dna.iloc[:, 0].values # y_chim for chimp_dna\n",
        "\n",
        "dog_texts = list(dog_dna['words'])\n",
        "for item in range(len(dog_texts)):\n",
        "    dog_texts[item] = ' '.join(dog_texts[item])\n",
        "#separate labels\n",
        "y_dog = dog_dna.iloc[:, 0].values"
      ],
      "execution_count": 21,
      "outputs": []
    },
    {
      "cell_type": "code",
      "metadata": {
        "colab": {
          "base_uri": "https://localhost:8080/"
        },
        "id": "F66I3RXb8YaM",
        "outputId": "eb058da7-4212-44c1-b48e-c298f7647d0e"
      },
      "source": [
        "print(y_chim)"
      ],
      "execution_count": 22,
      "outputs": [
        {
          "output_type": "stream",
          "name": "stdout",
          "text": [
            "[4 4 4 ... 6 3 3]\n"
          ]
        }
      ]
    },
    {
      "cell_type": "code",
      "metadata": {
        "colab": {
          "base_uri": "https://localhost:8080/"
        },
        "id": "TwPELgbh4wQJ",
        "outputId": "f01f5a0e-21cb-4739-e08e-efde4daa13c6"
      },
      "source": [
        "print(y_dog)"
      ],
      "execution_count": 23,
      "outputs": [
        {
          "output_type": "stream",
          "name": "stdout",
          "text": [
            "[4 4 6 6 0 6 0 0 0 0 0 6 6 0 0 0 6 0 0 0 0 0 6 0 0 0 6 0 0 6 0 0 0 0 0 0 3\n",
            " 0 6 0 6 0 6 0 6 0 0 3 3 6 6 6 6 4 0 0 4 2 0 0 0 0 6 0 6 0 0 5 5 6 4 6 0 0\n",
            " 3 6 3 6 6 6 6 6 4 6 4 1 4 0 0 0 6 4 4 6 6 6 6 6 4 6 6 3 3 3 3 0 6 3 3 6 4\n",
            " 4 5 6 6 1 5 2 2 1 4 2 6 3 3 6 6 6 3 3 6 6 6 3 6 6 2 0 0 6 6 3 3 3 0 0 4 6\n",
            " 6 5 1 1 0 0 0 4 0 4 0 0 3 4 6 0 6 6 3 4 0 6 6 1 2 2 2 3 6 2 2 2 6 0 0 6 6\n",
            " 0 0 1 6 5 5 6 0 6 0 0 4 0 0 3 4 0 0 6 6 5 5 3 4 1 0 6 5 6 6 4 4 2 2 2 4 6\n",
            " 4 4 2 1 3 6 0 6 2 3 0 0 6 0 6 4 3 1 1 4 6 4 4 6 3 3 2 2 1 1 3 3 4 3 0 3 5\n",
            " 5 5 5 5 5 5 2 2 4 4 6 4 4 6 6 6 0 3 3 4 3 0 0 6 0 0 6 6 1 5 5 0 0 6 6 1 1\n",
            " 1 4 2 2 3 4 3 4 4 1 4 4 3 1 6 1 2 2 2 5 0 0 6 6 6 6 4 3 3 4 5 5 6 6 0 4 1\n",
            " 2 4 4 3 4 4 0 0 6 0 5 4 4 4 4 0 5 3 3 6 6 6 6 6 3 4 4 2 2 3 6 0 0 2 6 4 4\n",
            " 6 2 4 4 4 0 6 6 6 0 6 3 2 2 4 0 6 4 6 4 4 4 6 6 6 4 6 6 6 2 6 6 6 6 6 5 6\n",
            " 0 0 0 5 5 5 4 6 6 6 6 1 1 6 6 1 4 1 1 3 6 6 1 3 2 2 0 0 4 3 0 0 5 0 1 1 1\n",
            " 3 0 2 2 2 3 1 6 3 3 6 6 6 6 5 5 4 6 4 6 6 6 2 5 5 0 0 3 6 5 5 1 1 1 6 6 6\n",
            " 6 1 1 2 6 6 4 6 1 3 3 6 1 2 6 4 4 0 6 6 6 4 6 6 6 6 6 2 2 6 6 6 4 4 1 6 6\n",
            " 6 2 2 1 1 3 6 6 2 2 2 2 0 6 4 1 1 6 1 3 3 4 4 4 4 6 6 1 1 1 5 1 1 2 2 6 6\n",
            " 4 4 0 6 3 5 4 1 1 1 3 5 6 6 6 6 5 5 6 3 6 6 4 6 4 0 1 0 3 4 6 4 4 4 6 1 1\n",
            " 5 5 2 6 6 6 4 0 3 6 3 6 6 3 3 6 6 6 4 6 6 6 4 4 4 3 3 6 3 4 6 6 4 1 5 5 6\n",
            " 0 0 4 6 6 0 0 0 6 4 4 6 6 6 3 4 4 4 6 3 2 5 6 1 3 0 2 6 4 4 5 0 4 4 4 4 6\n",
            " 5 6 6 6 6 2 2 1 1 4 4 3 5 5 1 5 4 0 6 0 1 1 6 6 6 6 6 1 3 4 3 5 1 0 6 6 6\n",
            " 4 1 5 5 4 0 0 6 2 6 3 6 6 0 3 3 3 3 4 6 6 0 4 4 4 6 1 3 0 4 4 1 1 1 6 4 2\n",
            " 2 3 1 4 4 1 1 6 6 5 5 6 3 4 6 6 6 6 3 6 6 6 2 2 6 6 3 2 4 4 4 6 6 4 6 6 6\n",
            " 6 6 3 3 5 2 2 3 0 0 0 6 6 3 3 3 5 6 6 1 1 0 6 6 6 4 5 6 3 0 4 6 4 4 6 6 3\n",
            " 5 5 6 6 1 6]\n"
          ]
        }
      ]
    },
    {
      "cell_type": "markdown",
      "metadata": {
        "id": "EAo2RkFD8oRZ"
      },
      "source": [
        "Vectorization "
      ]
    },
    {
      "cell_type": "code",
      "metadata": {
        "id": "zhEbxyhq8joM"
      },
      "source": [
        "from sklearn.feature_extraction.text import CountVectorizer # using countvectorizer!! \n",
        "cv = CountVectorizer(ngram_range=(4,4)) #The n-gram size of 4 is previously determined by testing\n",
        "X = cv.fit_transform(human_texts)\n",
        "X_chimp = cv.transform(chimp_texts)\n",
        "X_dog = cv.transform(dog_texts)"
      ],
      "execution_count": 24,
      "outputs": []
    },
    {
      "cell_type": "code",
      "metadata": {
        "colab": {
          "base_uri": "https://localhost:8080/"
        },
        "id": "WWYH0T8w8unc",
        "outputId": "f4c84f0a-dc00-4bbd-e1b9-7062eb446045"
      },
      "source": [
        "print(X.shape)\n",
        "print(X_chimp.shape)\n",
        "print(X_dog.shape)"
      ],
      "execution_count": 25,
      "outputs": [
        {
          "output_type": "stream",
          "name": "stdout",
          "text": [
            "(4380, 232414)\n",
            "(1682, 232414)\n",
            "(820, 232414)\n"
          ]
        }
      ]
    },
    {
      "cell_type": "code",
      "metadata": {
        "colab": {
          "base_uri": "https://localhost:8080/"
        },
        "id": "LNwU3RE581rr",
        "outputId": "83009ce1-c767-4aa3-bd23-511e5dbc164e"
      },
      "source": [
        "from sklearn.model_selection import train_test_split as tts\n",
        "X_train, X_test, y_train, y_test = tts(X,y_human,test_size = 0.20,random_state=42)\n",
        "print(X_train.shape)\n",
        "print(X_test.shape)\n",
        "print(y_train.shape)\n",
        "print(y_test.shape)"
      ],
      "execution_count": 26,
      "outputs": [
        {
          "output_type": "stream",
          "name": "stdout",
          "text": [
            "(3504, 232414)\n",
            "(876, 232414)\n",
            "(3504,)\n",
            "(876,)\n"
          ]
        }
      ]
    },
    {
      "cell_type": "code",
      "metadata": {
        "id": "zEA1XD2j-xlS"
      },
      "source": [
        "from sklearn.metrics import classification_report"
      ],
      "execution_count": 27,
      "outputs": []
    },
    {
      "cell_type": "markdown",
      "metadata": {
        "id": "xupElPOg_RIO"
      },
      "source": [
        "Naive Bayes"
      ]
    },
    {
      "cell_type": "code",
      "metadata": {
        "colab": {
          "base_uri": "https://localhost:8080/"
        },
        "id": "TWWH2Uak9pt8",
        "outputId": "19bee4ce-9725-4843-de2b-3d502f517961"
      },
      "source": [
        "from sklearn.naive_bayes import MultinomialNB\n",
        "model = MultinomialNB()\n",
        "naive_bayes_model = model.fit(X_train,y_train)\n",
        "naive_bayes_model_predict = naive_bayes_model.predict(X_test)\n",
        "naive_bayes_report = classification_report(y_test,naive_bayes_model_predict)\n",
        "print(naive_bayes_report)"
      ],
      "execution_count": 28,
      "outputs": [
        {
          "output_type": "stream",
          "name": "stdout",
          "text": [
            "              precision    recall  f1-score   support\n",
            "\n",
            "           0       1.00      0.96      0.98       102\n",
            "           1       1.00      0.98      0.99       106\n",
            "           2       1.00      1.00      1.00        78\n",
            "           3       0.99      0.99      0.99       125\n",
            "           4       0.97      0.98      0.98       149\n",
            "           5       0.94      1.00      0.97        51\n",
            "           6       0.98      0.98      0.98       265\n",
            "\n",
            "    accuracy                           0.98       876\n",
            "   macro avg       0.98      0.99      0.98       876\n",
            "weighted avg       0.98      0.98      0.98       876\n",
            "\n"
          ]
        }
      ]
    },
    {
      "cell_type": "code",
      "metadata": {
        "colab": {
          "base_uri": "https://localhost:8080/"
        },
        "id": "fVdd6qbM_A6i",
        "outputId": "255f2b9d-b3fe-4a03-9569-0fd243638dd7"
      },
      "source": [
        "from sklearn.tree import DecisionTreeClassifier\n",
        "dct = DecisionTreeClassifier(criterion='entropy', random_state=1)\n",
        "decision_tree_model = dct.fit(X_train,y_train)\n",
        "decision_tree_model_predict = decision_tree_model.predict(X_test)\n",
        "decision_tree_report = classification_report(y_test,decision_tree_model_predict)\n",
        "print(decision_tree_report)"
      ],
      "execution_count": 29,
      "outputs": [
        {
          "output_type": "stream",
          "name": "stdout",
          "text": [
            "              precision    recall  f1-score   support\n",
            "\n",
            "           0       0.54      0.83      0.65       102\n",
            "           1       0.93      0.83      0.88       106\n",
            "           2       0.92      0.87      0.89        78\n",
            "           3       0.83      0.80      0.81       125\n",
            "           4       0.86      0.77      0.81       149\n",
            "           5       0.88      0.75      0.81        51\n",
            "           6       0.88      0.84      0.86       265\n",
            "\n",
            "    accuracy                           0.82       876\n",
            "   macro avg       0.83      0.81      0.82       876\n",
            "weighted avg       0.84      0.82      0.82       876\n",
            "\n"
          ]
        }
      ]
    },
    {
      "cell_type": "code",
      "metadata": {
        "colab": {
          "base_uri": "https://localhost:8080/"
        },
        "id": "sjZQQwEJ_3PL",
        "outputId": "216406ba-b2b8-4df1-8e4c-16f46f34c787"
      },
      "source": [
        "from sklearn.ensemble import RandomForestClassifier\n",
        "clf = RandomForestClassifier(n_estimators=20)\n",
        "random_forest_model = clf.fit(X_train,y_train)\n",
        "random_forest_model_predict = random_forest_model.predict(X_test)\n",
        "random_forest_report = classification_report(y_test,random_forest_model_predict)\n",
        "print(random_forest_report)"
      ],
      "execution_count": 30,
      "outputs": [
        {
          "output_type": "stream",
          "name": "stdout",
          "text": [
            "              precision    recall  f1-score   support\n",
            "\n",
            "           0       0.81      0.85      0.83       102\n",
            "           1       0.98      0.86      0.91       106\n",
            "           2       0.99      0.87      0.93        78\n",
            "           3       0.76      0.93      0.83       125\n",
            "           4       0.96      0.86      0.90       149\n",
            "           5       1.00      0.84      0.91        51\n",
            "           6       0.88      0.92      0.90       265\n",
            "\n",
            "    accuracy                           0.89       876\n",
            "   macro avg       0.91      0.88      0.89       876\n",
            "weighted avg       0.90      0.89      0.89       876\n",
            "\n"
          ]
        }
      ]
    },
    {
      "cell_type": "code",
      "metadata": {
        "id": "6ZzJU2KjFWgR"
      },
      "source": [
        "from sklearn.linear_model import LogisticRegression"
      ],
      "execution_count": 31,
      "outputs": []
    },
    {
      "cell_type": "code",
      "metadata": {
        "colab": {
          "base_uri": "https://localhost:8080/"
        },
        "id": "TQE39sPMFRwd",
        "outputId": "652e8074-7f8e-4b84-a1b8-167732cc727c"
      },
      "source": [
        "logistic_reg_model = LogisticRegression(n_jobs = -1, penalty='l2', multi_class='multinomial',class_weight = 'balanced',verbose=1).fit(X_train,y_train)\n",
        "lr_model_predict = logistic_reg_model.predict(X_test)\n",
        "lr_model_report = classification_report(y_test, lr_model_predict)\n",
        "print(lr_model_report)"
      ],
      "execution_count": 32,
      "outputs": [
        {
          "output_type": "stream",
          "name": "stderr",
          "text": [
            "[Parallel(n_jobs=-1)]: Using backend LokyBackend with 2 concurrent workers.\n"
          ]
        },
        {
          "output_type": "stream",
          "name": "stdout",
          "text": [
            "              precision    recall  f1-score   support\n",
            "\n",
            "           0       0.99      0.92      0.95       102\n",
            "           1       1.00      0.93      0.97       106\n",
            "           2       1.00      0.94      0.97        78\n",
            "           3       0.95      0.94      0.94       125\n",
            "           4       0.99      0.91      0.95       149\n",
            "           5       1.00      0.90      0.95        51\n",
            "           6       0.87      1.00      0.93       265\n",
            "\n",
            "    accuracy                           0.95       876\n",
            "   macro avg       0.97      0.93      0.95       876\n",
            "weighted avg       0.95      0.95      0.95       876\n",
            "\n"
          ]
        },
        {
          "output_type": "stream",
          "name": "stderr",
          "text": [
            "[Parallel(n_jobs=-1)]: Done   1 out of   1 | elapsed:   19.0s finished\n"
          ]
        }
      ]
    },
    {
      "cell_type": "markdown",
      "metadata": {
        "id": "tlYY_Q1TAnDr"
      },
      "source": [
        "Conclusion: \n",
        "\n",
        "Naive Bayes: 98% accuracy\n",
        "\n",
        "Decision Tree: 82%\n",
        "\n",
        "Random Forest: 89%\n",
        "\n",
        "Logistic Regression: 95%"
      ]
    }
  ]
}